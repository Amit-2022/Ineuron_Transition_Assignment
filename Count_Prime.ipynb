{
 "cells": [
  {
   "cell_type": "code",
   "execution_count": 21,
   "id": "01ddacac",
   "metadata": {},
   "outputs": [
    {
     "name": "stdout",
     "output_type": "stream",
     "text": [
      " prime number between 0 and 10000000 : 664579\n",
      "time for execution is: 49817.06 ms\n"
     ]
    }
   ],
   "source": [
    "import datetime\n",
    "def count_prime_num(n):\n",
    "    primes = [True for i in range(n)]\n",
    "    i = 2\n",
    "    while(i*i <= n):\n",
    "        if(primes[i] == True):\n",
    "            for p in range(i*i, n, i):\n",
    "                primes[p] = False\n",
    "        i += 1\n",
    "    counter = 0\n",
    "    for i in range(2, len(primes)):\n",
    "        if primes[i]:\n",
    "            counter += 1\n",
    "    return counter\n",
    "\n",
    "\n",
    "start_time = datetime.datetime.now()\n",
    "print(\n",
    "    f\" prime number between 0 and 10000000 : {count_prime_num(10000000)}\"\n",
    ")\n",
    "end_time = datetime.datetime.now()\n",
    "time_diff = end_time - start_time\n",
    "print(f\"time for execution is: {time_diff.total_seconds() * 1000} ms\")"
   ]
  },
  {
   "cell_type": "code",
   "execution_count": null,
   "id": "a459a758",
   "metadata": {},
   "outputs": [],
   "source": []
  }
 ],
 "metadata": {
  "kernelspec": {
   "display_name": "Python 3 (ipykernel)",
   "language": "python",
   "name": "python3"
  },
  "language_info": {
   "codemirror_mode": {
    "name": "ipython",
    "version": 3
   },
   "file_extension": ".py",
   "mimetype": "text/x-python",
   "name": "python",
   "nbconvert_exporter": "python",
   "pygments_lexer": "ipython3",
   "version": "3.9.7"
  }
 },
 "nbformat": 4,
 "nbformat_minor": 5
}
